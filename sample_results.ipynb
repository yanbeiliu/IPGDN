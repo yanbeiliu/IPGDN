{
 "cells": [
  {
   "cell_type": "markdown",
   "metadata": {},
   "source": [
    "Some example results. Your results may vary. You can use meta.py to tune the hyperparameters.\n",
    "\n",
    "(Well... Regretably, I might have tuned the hyperparameters too hard when it comes to the single-label tasks. But it should be easy to outperform the GCN baseline anyway. After all, our model can be reduced to a GCN when K=1.)\n",
    "\n",
    "(Numerical instability can sometimes be an issue. Hope that I can find a way to address it someday.)"
   ]
  },
  {
   "cell_type": "code",
   "execution_count": null,
   "metadata": {},
   "outputs": [
    {
     "name": "stdout",
     "output_type": "stream",
     "text": [
      "#instance x #feature ~ #class = 2708 x 1433 ~ 7\n",
      "  0/200 trn-loss: 1.9484 trn-acc: 0.4500 val-acc: 0.3080\n",
      "  1/200 trn-loss: 1.7996 trn-acc: 0.8143 val-acc: 0.7398\n",
      "  2/200 trn-loss: 1.5008 trn-acc: 0.9071 val-acc: 0.8144\n",
      "  3/200 trn-loss: 1.1725 trn-acc: 0.9143 val-acc: 0.7966\n",
      "  4/200 trn-loss: 0.9779 trn-acc: 0.9286 val-acc: 0.7908\n",
      "  5/200 trn-loss: 0.8056 trn-acc: 0.9429 val-acc: 0.7953\n",
      "  6/200 trn-loss: 0.7170 trn-acc: 0.9500 val-acc: 0.8125\n",
      "  7/200 trn-loss: 0.5428 trn-acc: 0.9571 val-acc: 0.8131\n",
      "  8/200 trn-loss: 0.5820 trn-acc: 0.9714 val-acc: 0.8099\n",
      "  9/200 trn-loss: 0.4291 trn-acc: 0.9857 val-acc: 0.8004\n",
      " 10/200 trn-loss: 0.4065 trn-acc: 0.9857 val-acc: 0.8017\n",
      " 11/200 trn-loss: 0.3487 trn-acc: 0.9786 val-acc: 0.7953\n",
      "time: 87.8703 sec.\n",
      "tst-acc: 0.8350\n",
      "val=81.44% tst=83.50%\n",
      "(0.8144, 0.8350)\n"
     ]
    }
   ],
   "source": [
    "!python3 main.py --datname cora --nbsz 20 --cpu --dropout 0.41 --lr 0.061 --ncaps 7 --nhidden 24 --nlayer 6 --reg 0.0012 --routit 6"
   ]
  },
  {
   "cell_type": "code",
   "execution_count": 2,
   "metadata": {},
   "outputs": [
    {
     "name": "stdout",
     "output_type": "stream",
     "text": [
      "#instance x #feature ~ #class = 2708 x 1433 ~ 7\n",
      "  0/200 trn-loss: 1.9817 trn-acc: 0.3000 val-acc: 0.1907\n",
      "  1/200 trn-loss: 1.8746 trn-acc: 0.4857 val-acc: 0.3048\n",
      "  2/200 trn-loss: 1.8013 trn-acc: 0.7143 val-acc: 0.6103\n",
      "  3/200 trn-loss: 1.6753 trn-acc: 0.7929 val-acc: 0.7328\n",
      "  4/200 trn-loss: 1.6321 trn-acc: 0.8643 val-acc: 0.7844\n",
      "  5/200 trn-loss: 1.5005 trn-acc: 0.8857 val-acc: 0.7991\n",
      "  6/200 trn-loss: 1.3911 trn-acc: 0.8857 val-acc: 0.8131\n",
      "  7/200 trn-loss: 1.3092 trn-acc: 0.9000 val-acc: 0.8163\n",
      "  8/200 trn-loss: 1.2473 trn-acc: 0.9143 val-acc: 0.8176\n",
      "  9/200 trn-loss: 1.1855 trn-acc: 0.9214 val-acc: 0.8182\n",
      " 10/200 trn-loss: 1.0557 trn-acc: 0.9357 val-acc: 0.8182\n",
      " 11/200 trn-loss: 0.9724 trn-acc: 0.9357 val-acc: 0.8227\n",
      " 12/200 trn-loss: 1.0054 trn-acc: 0.9429 val-acc: 0.8214\n",
      " 13/200 trn-loss: 0.9610 trn-acc: 0.9429 val-acc: 0.8125\n",
      " 14/200 trn-loss: 0.8437 trn-acc: 0.9357 val-acc: 0.8093\n",
      " 15/200 trn-loss: 0.9286 trn-acc: 0.9286 val-acc: 0.8017\n",
      " 16/200 trn-loss: 0.8741 trn-acc: 0.9357 val-acc: 0.8004\n",
      " 17/200 trn-loss: 0.8409 trn-acc: 0.9357 val-acc: 0.7946\n",
      " 18/200 trn-loss: 0.8849 trn-acc: 0.9429 val-acc: 0.8029\n",
      " 19/200 trn-loss: 0.7240 trn-acc: 0.9500 val-acc: 0.8144\n",
      " 20/200 trn-loss: 0.8350 trn-acc: 0.9500 val-acc: 0.8176\n",
      "time: 182.9401 sec.\n",
      "tst-acc: 0.8270\n",
      "val=82.27% tst=82.70%\n",
      "(0.8227, 0.8270)\n"
     ]
    }
   ],
   "source": [
    "!python3 main.py --datname cora --nbsz 20 --cpu --dropout 0.52 --lr 0.023 --ncaps 7 --nhidden 26 --nlayer 6 --reg 0.0069 --routit 6"
   ]
  },
  {
   "cell_type": "code",
   "execution_count": 3,
   "metadata": {},
   "outputs": [
    {
     "name": "stdout",
     "output_type": "stream",
     "text": [
      "#instance x #feature ~ #class = 3327 x 3703 ~ 6\n",
      "  0/200 trn-loss: 1.7914 trn-acc: 0.1417 val-acc: 0.1925\n",
      "  1/200 trn-loss: 1.9682 trn-acc: 0.4583 val-acc: 0.2605\n",
      "  2/200 trn-loss: 2.1071 trn-acc: 0.4250 val-acc: 0.3878\n",
      "  3/200 trn-loss: 1.5655 trn-acc: 0.3000 val-acc: 0.2874\n",
      "  4/200 trn-loss: 1.6298 trn-acc: 0.6417 val-acc: 0.3508\n",
      "  5/200 trn-loss: 1.5041 trn-acc: 0.5250 val-acc: 0.3303\n",
      "  6/200 trn-loss: 1.4483 trn-acc: 0.6083 val-acc: 0.4416\n",
      "  7/200 trn-loss: 1.2881 trn-acc: 0.8333 val-acc: 0.5461\n",
      "  8/200 trn-loss: 1.3180 trn-acc: 0.8333 val-acc: 0.6423\n",
      "  9/200 trn-loss: 1.2690 trn-acc: 0.9083 val-acc: 0.6679\n",
      " 10/200 trn-loss: 1.1458 trn-acc: 0.9167 val-acc: 0.6410\n",
      " 11/200 trn-loss: 1.0525 trn-acc: 0.9250 val-acc: 0.7007\n",
      " 12/200 trn-loss: 1.0216 trn-acc: 0.9333 val-acc: 0.6446\n",
      " 13/200 trn-loss: 1.0163 trn-acc: 0.9250 val-acc: 0.6432\n",
      " 14/200 trn-loss: 1.0886 trn-acc: 0.9250 val-acc: 0.6428\n",
      " 15/200 trn-loss: 1.0477 trn-acc: 0.9000 val-acc: 0.6797\n",
      " 16/200 trn-loss: 1.0040 trn-acc: 0.9083 val-acc: 0.6793\n",
      " 17/200 trn-loss: 0.9896 trn-acc: 0.9417 val-acc: 0.6893\n",
      " 18/200 trn-loss: 1.0156 trn-acc: 0.9167 val-acc: 0.6638\n",
      " 19/200 trn-loss: 1.0702 trn-acc: 0.9167 val-acc: 0.6720\n",
      " 20/200 trn-loss: 1.0681 trn-acc: 0.9333 val-acc: 0.6921\n",
      "time: 196.5515 sec.\n",
      "tst-acc: 0.7310\n",
      "val=70.07% tst=73.10%\n",
      "(0.7007, 0.7310)\n"
     ]
    }
   ],
   "source": [
    "!python3 main.py --datname citeseer --nbsz 20 --cpu --dropout 0.26 --nlayer 5 --reg 0.086 --ncaps 7 --routit 6 --lr 0.09 --nhidden 30"
   ]
  },
  {
   "cell_type": "code",
   "execution_count": 4,
   "metadata": {},
   "outputs": [
    {
     "name": "stdout",
     "output_type": "stream",
     "text": [
      "#instance x #feature ~ #class = 3327 x 3703 ~ 6\n",
      "  0/200 trn-loss: 1.8084 trn-acc: 0.3000 val-acc: 0.2660\n",
      "  1/200 trn-loss: 1.8666 trn-acc: 0.3917 val-acc: 0.3472\n",
      "  2/200 trn-loss: 1.6746 trn-acc: 0.7917 val-acc: 0.6232\n",
      "  3/200 trn-loss: 1.4372 trn-acc: 0.8250 val-acc: 0.5734\n",
      "  4/200 trn-loss: 1.2757 trn-acc: 0.8167 val-acc: 0.6474\n",
      "  5/200 trn-loss: 1.2961 trn-acc: 0.8833 val-acc: 0.6816\n",
      "  6/200 trn-loss: 1.2470 trn-acc: 0.9083 val-acc: 0.7030\n",
      "  7/200 trn-loss: 1.1596 trn-acc: 0.8750 val-acc: 0.6857\n",
      "  8/200 trn-loss: 1.1292 trn-acc: 0.8750 val-acc: 0.7030\n",
      "  9/200 trn-loss: 1.1519 trn-acc: 0.8667 val-acc: 0.7016\n",
      " 10/200 trn-loss: 1.1716 trn-acc: 0.8833 val-acc: 0.6410\n",
      " 11/200 trn-loss: 1.1448 trn-acc: 0.8833 val-acc: 0.6893\n",
      " 12/200 trn-loss: 1.0321 trn-acc: 0.8667 val-acc: 0.6962\n",
      " 13/200 trn-loss: 1.0788 trn-acc: 0.8667 val-acc: 0.6747\n",
      " 14/200 trn-loss: 1.1018 trn-acc: 0.9417 val-acc: 0.6592\n",
      " 15/200 trn-loss: 1.1562 trn-acc: 0.9333 val-acc: 0.6569\n",
      "time: 233.9150 sec.\n",
      "tst-acc: 0.7300\n",
      "val=70.30% tst=73.00%\n",
      "(0.7030, 0.7300)\n"
     ]
    }
   ],
   "source": [
    "!python3 main.py --datname citeseer --nbsz 20 --cpu --dropout 0.41 --nlayer 6 --reg 0.014 --ncaps 7 --routit 6 --lr 0.091 --nhidden 28"
   ]
  },
  {
   "cell_type": "code",
   "execution_count": 5,
   "metadata": {},
   "outputs": [
    {
     "name": "stdout",
     "output_type": "stream",
     "text": [
      "#instance x #feature ~ #class = 19717 x 500 ~ 3\n",
      "  0/200 trn-loss: 1.0972 trn-acc: 0.4167 val-acc: 0.2745\n",
      "  1/200 trn-loss: 1.1232 trn-acc: 0.6667 val-acc: 0.5485\n",
      "  2/200 trn-loss: 1.1067 trn-acc: 0.8167 val-acc: 0.6733\n",
      "  3/200 trn-loss: 1.1290 trn-acc: 0.8333 val-acc: 0.6710\n",
      "  4/200 trn-loss: 1.0476 trn-acc: 0.8833 val-acc: 0.6939\n",
      "  5/200 trn-loss: 1.0659 trn-acc: 0.8667 val-acc: 0.6987\n",
      "  6/200 trn-loss: 1.0002 trn-acc: 0.8500 val-acc: 0.6970\n",
      "  7/200 trn-loss: 0.9790 trn-acc: 0.8667 val-acc: 0.6990\n",
      "  8/200 trn-loss: 0.9713 trn-acc: 0.8833 val-acc: 0.7019\n",
      "  9/200 trn-loss: 0.9641 trn-acc: 0.9000 val-acc: 0.7033\n",
      " 10/200 trn-loss: 0.9227 trn-acc: 0.9000 val-acc: 0.7092\n",
      " 11/200 trn-loss: 0.9034 trn-acc: 0.9000 val-acc: 0.7135\n",
      " 12/200 trn-loss: 0.8478 trn-acc: 0.9167 val-acc: 0.7169\n",
      " 13/200 trn-loss: 0.8547 trn-acc: 0.9167 val-acc: 0.7174\n",
      " 14/200 trn-loss: 0.8037 trn-acc: 0.9167 val-acc: 0.7206\n",
      " 15/200 trn-loss: 0.7670 trn-acc: 0.9167 val-acc: 0.7237\n",
      " 16/200 trn-loss: 0.7578 trn-acc: 0.9167 val-acc: 0.7274\n",
      " 17/200 trn-loss: 0.7400 trn-acc: 0.9333 val-acc: 0.7402\n",
      " 18/200 trn-loss: 0.6803 trn-acc: 0.9500 val-acc: 0.7462\n",
      " 19/200 trn-loss: 0.6636 trn-acc: 0.9500 val-acc: 0.7574\n",
      " 20/200 trn-loss: 0.6405 trn-acc: 0.9500 val-acc: 0.7656\n",
      " 21/200 trn-loss: 0.6447 trn-acc: 0.9500 val-acc: 0.7747\n",
      " 22/200 trn-loss: 0.5811 trn-acc: 0.9500 val-acc: 0.7795\n",
      " 23/200 trn-loss: 0.5790 trn-acc: 0.9500 val-acc: 0.7832\n",
      " 24/200 trn-loss: 0.4984 trn-acc: 0.9667 val-acc: 0.7843\n",
      " 25/200 trn-loss: 0.5406 trn-acc: 0.9833 val-acc: 0.7832\n",
      " 26/200 trn-loss: 0.5074 trn-acc: 0.9833 val-acc: 0.7762\n",
      " 27/200 trn-loss: 0.4677 trn-acc: 0.9833 val-acc: 0.7695\n",
      " 28/200 trn-loss: 0.4912 trn-acc: 1.0000 val-acc: 0.7700\n",
      " 29/200 trn-loss: 0.4155 trn-acc: 1.0000 val-acc: 0.7696\n",
      " 30/200 trn-loss: 0.4230 trn-acc: 1.0000 val-acc: 0.7689\n",
      " 31/200 trn-loss: 0.4180 trn-acc: 1.0000 val-acc: 0.7723\n",
      " 32/200 trn-loss: 0.4551 trn-acc: 1.0000 val-acc: 0.7757\n",
      " 33/200 trn-loss: 0.4347 trn-acc: 1.0000 val-acc: 0.7778\n",
      "time: 843.4992 sec.\n",
      "tst-acc: 0.7970\n",
      "val=78.43% tst=79.70%\n",
      "(0.7843, 0.7970)\n"
     ]
    }
   ],
   "source": [
    "!python3 main.py --datname pubmed --nbsz 20 --cpu --nlayer 5 --routit 6 --ncaps 7 --reg 0.0055 --lr 0.0059 --nhidden 16 --dropout 0.41"
   ]
  },
  {
   "cell_type": "code",
   "execution_count": 6,
   "metadata": {},
   "outputs": [
    {
     "name": "stdout",
     "output_type": "stream",
     "text": [
      "#instance x #feature ~ #class = 19717 x 500 ~ 3\n",
      "  0/200 trn-loss: 1.1267 trn-acc: 0.3333 val-acc: 0.3916\n",
      "  1/200 trn-loss: 1.1466 trn-acc: 0.6833 val-acc: 0.5527\n",
      "  2/200 trn-loss: 1.0357 trn-acc: 0.5000 val-acc: 0.3145\n",
      "  3/200 trn-loss: 1.0247 trn-acc: 0.4500 val-acc: 0.2370\n",
      "  4/200 trn-loss: 0.9685 trn-acc: 0.8000 val-acc: 0.6796\n",
      "  5/200 trn-loss: 0.9304 trn-acc: 0.8500 val-acc: 0.7041\n",
      "  6/200 trn-loss: 0.8774 trn-acc: 0.9500 val-acc: 0.7455\n",
      "  7/200 trn-loss: 0.7846 trn-acc: 0.9333 val-acc: 0.7618\n",
      "  8/200 trn-loss: 0.6739 trn-acc: 0.9667 val-acc: 0.7614\n",
      "  9/200 trn-loss: 0.6142 trn-acc: 0.9667 val-acc: 0.7600\n",
      " 10/200 trn-loss: 0.5017 trn-acc: 0.9833 val-acc: 0.7663\n",
      " 11/200 trn-loss: 0.4474 trn-acc: 0.9833 val-acc: 0.7855\n",
      " 12/200 trn-loss: 0.4027 trn-acc: 0.9833 val-acc: 0.7852\n",
      " 13/200 trn-loss: 0.3309 trn-acc: 0.9833 val-acc: 0.7486\n",
      " 14/200 trn-loss: 0.3448 trn-acc: 1.0000 val-acc: 0.7753\n",
      " 15/200 trn-loss: 0.2918 trn-acc: 1.0000 val-acc: 0.7371\n",
      " 16/200 trn-loss: 0.2643 trn-acc: 0.9833 val-acc: 0.7731\n",
      " 17/200 trn-loss: 0.2848 trn-acc: 1.0000 val-acc: 0.7426\n",
      " 18/200 trn-loss: 0.3430 trn-acc: 1.0000 val-acc: 0.7554\n",
      " 19/200 trn-loss: 0.2293 trn-acc: 0.9833 val-acc: 0.7546\n",
      " 20/200 trn-loss: 0.3113 trn-acc: 1.0000 val-acc: 0.7639\n",
      "time: 476.9591 sec.\n",
      "tst-acc: 0.8040\n",
      "val=78.55% tst=80.40%\n",
      "(0.7855, 0.8040)\n"
     ]
    }
   ],
   "source": [
    "!python3 main.py --datname pubmed --nbsz 20 --cpu --nlayer 4 --routit 6 --ncaps 7 --reg 0.045 --lr 0.014 --nhidden 22 --dropout 0.22"
   ]
  }
 ],
 "metadata": {
  "kernelspec": {
   "display_name": "Python 3",
   "language": "python",
   "name": "python3"
  },
  "language_info": {
   "codemirror_mode": {
    "name": "ipython",
    "version": 3
   },
   "file_extension": ".py",
   "mimetype": "text/x-python",
   "name": "python",
   "nbconvert_exporter": "python",
   "pygments_lexer": "ipython3",
   "version": "3.7.3"
  }
 },
 "nbformat": 4,
 "nbformat_minor": 2
}
